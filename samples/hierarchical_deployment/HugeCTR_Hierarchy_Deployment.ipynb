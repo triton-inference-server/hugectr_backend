{
 "cells": [
  {
   "cell_type": "code",
   "execution_count": 1,
   "id": "f002d579",
   "metadata": {},
   "outputs": [],
   "source": [
    "# Copyright 2021 NVIDIA Corporation. All Rights Reserved.\n",
    "#\n",
    "# Licensed under the Apache License, Version 2.0 (the \"License\");\n",
    "# you may not use this file except in compliance with the License.\n",
    "# You may obtain a copy of the License at\n",
    "#\n",
    "#     http://www.apache.org/licenses/LICENSE-2.0\n",
    "#\n",
    "# Unless required by applicable law or agreed to in writing, software\n",
    "# distributed under the License is distributed on an \"AS IS\" BASIS,\n",
    "# WITHOUT WARRANTIES OR CONDITIONS OF ANY KIND, either express or implied.\n",
    "# See the License for the specific language governing permissions and\n",
    "# limitations under the License.\n",
    "# =============================================================================="
   ]
  },
  {
   "cell_type": "markdown",
   "id": "11d4ae0b",
   "metadata": {},
   "source": [
    "# 1.Overview"
   ]
  },
  {
   "cell_type": "markdown",
   "id": "22707757",
   "metadata": {},
   "source": [
    "In this notebook, we want to provide a tutorial about how to make inference using HugeCTR trained WDL model. And we can collect the inference benchmark by Triton performance analyzer tool."
   ]
  },
  {
   "cell_type": "markdown",
   "id": "fa2392df",
   "metadata": {},
   "source": [
    "1. Overview\n",
    "2. Generate the WDL deployment Configuration\n",
    "3. Load Models on the Triton Server\n",
    "4. Prepare Inference Input Data \n",
    "5. Inference Benchmarm by Triton Performance Tool"
   ]
  },
  {
   "cell_type": "markdown",
   "id": "37bc0f17",
   "metadata": {},
   "source": [
    "# 2. Generate the WDL Deployment Configuration"
   ]
  },
  {
   "cell_type": "markdown",
   "id": "79f78f7f",
   "metadata": {},
   "source": [
    "## 2.1 Generate related model folders"
   ]
  },
  {
   "cell_type": "code",
   "execution_count": 1,
   "id": "36e9b291",
   "metadata": {},
   "outputs": [],
   "source": [
    "# define some data folder to store the model related files\n",
    "# Standard Libraries\n",
    "import os\n",
    "from time import time\n",
    "import re\n",
    "import shutil\n",
    "import glob\n",
    "import warnings\n",
    "\n",
    "BASE_DIR = \"/wdl_infer\"\n",
    "model_folder  = os.path.join(BASE_DIR, \"model\")\n",
    "wdl_model_repo= os.path.join(model_folder, \"wdl\")\n",
    "wdl_version =os.path.join(wdl_model_repo, \"1\")\n",
    "\n",
    "if os.path.isdir(model_folder):\n",
    "    shutil.rmtree(model_folder)\n",
    "os.makedirs(model_folder)\n",
    "\n",
    "if os.path.isdir(wdl_model_repo):\n",
    "    shutil.rmtree(wdl_model_repo)\n",
    "os.makedirs(wdl_model_repo)\n",
    "\n",
    "if os.path.isdir(wdl_version):\n",
    "    shutil.rmtree(wdl_version)\n",
    "os.makedirs(wdl_version)"
   ]
  },
  {
   "cell_type": "markdown",
   "id": "b652a705",
   "metadata": {},
   "source": [
    "## 2.2 Copy WDL model files and configuration to model repository"
   ]
  },
  {
   "cell_type": "code",
   "execution_count": 2,
   "id": "10e25ff3",
   "metadata": {},
   "outputs": [
    {
     "name": "stdout",
     "output_type": "stream",
     "text": [
      "total 4098\n",
      "-rw-r--r-- 1 root root    3731 Nov 30 06:01 wdl.json\n",
      "drwxr-xr-x 2 root root    4096 Nov 30 06:01 wdl0_sparse_20000.model\n",
      "drwxr-xr-x 2 root root    4096 Nov 30 06:01 wdl1_sparse_20000.model\n",
      "-rw-r--r-- 1 root root 5963780 Nov 30 06:01 wdl_dense_20000.model\n"
     ]
    }
   ],
   "source": [
    "!cp -r /wdl_train/wdl0_sparse_20000.model $wdl_version/\n",
    "!cp -r /wdl_train/wdl1_sparse_20000.model $wdl_version/\n",
    "!cp  /wdl_train/wdl_dense_20000.model $wdl_version/\n",
    "!cp /wdl_train/wdl.json $wdl_version/\n",
    "!ls -l $wdl_version"
   ]
  },
  {
   "cell_type": "markdown",
   "id": "bc99a23e",
   "metadata": {},
   "source": [
    "## 2.3 Generate the Triton configuration for deploying WDL"
   ]
  },
  {
   "cell_type": "code",
   "execution_count": 103,
   "id": "352f61ce",
   "metadata": {},
   "outputs": [
    {
     "name": "stdout",
     "output_type": "stream",
     "text": [
      "Overwriting /wdl_infer/model/wdl/config.pbtxt\n"
     ]
    }
   ],
   "source": [
    "%%writefile $wdl_model_repo/config.pbtxt\n",
    "name: \"wdl\"\n",
    "backend: \"hugectr\"\n",
    "max_batch_size:64,\n",
    "input [\n",
    "  {\n",
    "    name: \"DES\"\n",
    "    data_type: TYPE_FP32\n",
    "    dims: [ -1 ]\n",
    "  },\n",
    "  {\n",
    "    name: \"CATCOLUMN\"\n",
    "    data_type: TYPE_INT64\n",
    "    dims: [ -1 ]\n",
    "  },\n",
    "  {\n",
    "    name: \"ROWINDEX\"\n",
    "    data_type: TYPE_INT32\n",
    "    dims: [ -1 ]\n",
    "  }\n",
    "]\n",
    "output [\n",
    "  {\n",
    "    name: \"OUTPUT0\"\n",
    "    data_type: TYPE_FP32\n",
    "    dims: [ -1 ]\n",
    "  }\n",
    "]\n",
    "instance_group [\n",
    "  {\n",
    "    count: 1\n",
    "    kind : KIND_GPU\n",
    "    gpus:[0]\n",
    "  }\n",
    "]\n",
    "\n",
    "parameters [\n",
    "  {\n",
    "    key: \"config\"\n",
    "    value: { string_value: \"/wdl_infer/model/wdl/1/wdl.json\" }\n",
    "  },\n",
    "  {\n",
    "    key: \"gpucache\"\n",
    "    value: { string_value: \"true\" }\n",
    "  },\n",
    "  {\n",
    "    key: \"hit_rate_threshold\"\n",
    "    value: { string_value: \"0.9\" }\n",
    "  },\n",
    "  {\n",
    "    key: \"gpucacheper\"\n",
    "    value: { string_value: \"0.5\" }\n",
    "  },\n",
    "  {\n",
    "    key: \"label_dim\"\n",
    "    value: { string_value: \"1\" }\n",
    "  }\n",
    "]"
   ]
  },
  {
   "cell_type": "markdown",
   "id": "7e917cd4",
   "metadata": {},
   "source": [
    "## 2.4 Configure a RocksDB directory for localized storage\n",
    "Make sure the RocksDB directory has read and write permissions for storing model embedded tables. Since we have created the RocksDB folder outside the container, please make sure to mount the correct folder path to /wdl_infer/rocksdb and configure the correct RocksDB path to the ps.json in the next step."
   ]
  },
  {
   "cell_type": "markdown",
   "id": "213b02e9",
   "metadata": {},
   "source": [
    "## 2.5 Generate the Hugectr Backend parameter server configuration for deploying wdl"
   ]
  },
  {
   "cell_type": "code",
   "execution_count": 5,
   "id": "98c2d820",
   "metadata": {},
   "outputs": [
    {
     "name": "stdout",
     "output_type": "stream",
     "text": [
      "Overwriting /wdl_infer/model/ps.json\n"
     ]
    }
   ],
   "source": [
    "%%writefile /wdl_infer/model/ps.json\n",
    "{\n",
    "    \"supportlonglong\": true,\n",
    "    \"volatile_db\": {\n",
    "        \"type\": \"disabled\",\n",
    "        \"address\": \"127.0.0.1:7000,127.0.0.1:7001,127.0.0.1:7002\",\n",
    "        \"user_name\": \"default\",\n",
    "        \"password\": \"\",\n",
    "        \"num_partitions\": 8,\n",
    "        \"refresh_time_after_fetch\": false,\n",
    "        \"max_get_batch_size\": 100000,\n",
    "        \"max_set_batch_size\": 100000,\n",
    "        \"overflow_policy\": \"evict_oldest\",\n",
    "        \"overflow_margin\": 10000000,\n",
    "        \"overflow_resolution_target\": 0.8,\n",
    "        \"initial_cache_rate\": 0.1,\n",
    "        \"cache_missed_embeddings\": false,\n",
    "        \"update_filters\": [ \"^hps_.+$\" ]\n",
    "    },\n",
    "    \"persistent_db\": {\n",
    "        \"type\": \"rocksdb\",\n",
    "        \"path\": \"/wdl_infer/rocksdb\",\n",
    "        \"num_threads\": 16,\n",
    "        \"read_only\": false,\n",
    "        \"max_get_batch_size\": 10000,\n",
    "        \"max_set_batch_size\": 10000,\n",
    "        \"update_filters\": [ \"^hps_.+$\" ]\n",
    "    },\n",
    "    \"update_source\": {\n",
    "        \"type\": \"kafka\",\n",
    "        \"brokers\": \"127.0.0.1:9092\",\n",
    "        \"receive_buffer_size\": 262144,\n",
    "        \"poll_timeout_ms\": 500,\n",
    "        \"max_batch_size\": 8192,\n",
    "        \"failure_backoff_ms\": 50,\n",
    "        \"max_commit_interval\": 32\n",
    "    },\n",
    "    \"models\":[\n",
    "        {\n",
    "            \"model\":\"wdl\",\n",
    "            \"sparse_files\":[\"/wdl_infer/model/wdl/1/wdl0_sparse_20000.model\", \"/wdl_infer/model/wdl/1/wdl1_sparse_20000.model\"],\n",
    "            \"dense_file\":\"/wdl_infer/model/wdl/1/wdl_dense_20000.model\",\n",
    "            \"network_file\":\"/wdl_infer/model/wdl/1/wdl.json\",\n",
    "            \"num_of_worker_buffer_in_pool\": 4,\n",
    "            \"num_of_refresher_buffer_in_pool\": 1,\n",
    "            \"deployed_device_list\":[0],\n",
    "            \"max_batch_size\":64,\n",
    "            \"default_value_for_each_table\":[0.0,0.0],\n",
    "            \"hit_rate_threshold\":0.9,\n",
    "            \"gpucacheper\":0.5,\n",
    "            \"gpucache\":true,\n",
    "            \"cache_refresh_percentage_per_iteration\": 0.2,\n",
    "            \"maxnum_des_feature_per_sample\": 13,\n",
    "\t\t\t\"maxnum_catfeature_query_per_table_per_sample\" : [2,26],\n",
    "\t\t\t\"embedding_vecsize_per_table\" : [1,15],\n",
    "\t\t\t\"slot_num\":28\n",
    "        }\n",
    "    ]  \n",
    "}"
   ]
  },
  {
   "cell_type": "code",
   "execution_count": 6,
   "id": "5db97930",
   "metadata": {},
   "outputs": [
    {
     "name": "stdout",
     "output_type": "stream",
     "text": [
      "total 1\n",
      "drwxr-xr-x 4 root root 4096 Nov 30 06:01 1\n",
      "-rw-r--r-- 1 root root 1174 Nov 30 06:03 config.pbtxt\n",
      "total 5858\n",
      "-rw-r--r-- 1 root root    3731 Nov 30 06:01 wdl.json\n",
      "drwxr-xr-x 2 root root    4096 Nov 30 06:01 wdl0_sparse_20000.model\n",
      "drwxr-xr-x 2 root root    4096 Nov 30 06:01 wdl1_sparse_20000.model\n",
      "-rw-r--r-- 1 root root 5963780 Nov 30 06:01 wdl_dense_20000.model\n"
     ]
    }
   ],
   "source": [
    "!ls -l $wdl_model_repo\n",
    "!ls -l $wdl_version"
   ]
  },
  {
   "cell_type": "markdown",
   "id": "4a3a47dc",
   "metadata": {},
   "source": [
    "# 3.Deploy WDL on Triton Server "
   ]
  },
  {
   "cell_type": "markdown",
   "id": "7de8db3e",
   "metadata": {},
   "source": [
    "At this stage, you should have already launched the Triton Inference Server with the following command:\n",
    "\n",
    "In this tutorial, we will deploy the Wide&Deep to a single A100(32GB),\n",
    "\n",
    "Note: `Since Background processes not supported by Jupyter, please launch the Triton Server according to the following command independently in the background.`"
   ]
  },
  {
   "cell_type": "code",
   "execution_count": null,
   "id": "b5624d82",
   "metadata": {},
   "outputs": [],
   "source": [
    "!tritonserver --model-repository=/wdl_infer/model/ --load-model=wdl \\\n",
    "    --model-control-mode=explicit \\\n",
    "    --backend-directory=/usr/local/hugectr/backends \\\n",
    "    --backend-config=hugectr,ps=/wdl_infer/model/ps.json"
   ]
  },
  {
   "cell_type": "markdown",
   "id": "3b271b13",
   "metadata": {},
   "source": [
    "### 3.1 Check Triton server status if deploy Wide&Deep model successfully"
   ]
  },
  {
   "cell_type": "code",
   "execution_count": 3,
   "id": "d3211a4c",
   "metadata": {},
   "outputs": [
    {
     "name": "stdout",
     "output_type": "stream",
     "text": [
      "*   Trying 127.0.0.1:8000...\n",
      "* TCP_NODELAY set\n",
      "* Connected to localhost (127.0.0.1) port 8000 (#0)\n",
      "> GET /v2/health/ready HTTP/1.1\n",
      "\n",
      "> Host: localhost:8000\n",
      "\n",
      "> User-Agent: curl/7.68.0\n",
      "\n",
      "> Accept: */*\n",
      "\n",
      "> \n",
      "\n",
      "* Mark bundle as not supporting multiuse\n",
      "< HTTP/1.1 200 OK\n",
      "\n",
      "< Content-Length: 0\n",
      "\n",
      "< Content-Type: text/plain\n",
      "\n",
      "< \n",
      "\n",
      "* Connection #0 to host localhost left intact\n"
     ]
    }
   ],
   "source": [
    "!curl -v localhost:8000/v2/health/ready"
   ]
  },
  {
   "cell_type": "markdown",
   "id": "b4467413",
   "metadata": {},
   "source": [
    "# 4. Prepare Inference Request"
   ]
  },
  {
   "cell_type": "markdown",
   "id": "5bc8892d",
   "metadata": {},
   "source": [
    "### 4.1 Read validation data"
   ]
  },
  {
   "cell_type": "code",
   "execution_count": 13,
   "id": "8903c9a2",
   "metadata": {},
   "outputs": [
    {
     "name": "stdout",
     "output_type": "stream",
     "text": [
      "total 645762\n",
      "-rw-r--r-- 1 root root        32 Nov 29 05:27 _file_list.txt\n",
      "-rw-r--r-- 1 root root   8554464 Nov 29 05:27 _hugectr.keyset\n",
      "-rw-r--r-- 1 root root     22726 Nov 29 05:27 _metadata\n",
      "-rw-r--r-- 1 root root      1509 Nov 29 05:27 _metadata.json\n",
      "-rw-r--r-- 1 root root 142825257 Nov 29 05:27 part_0.parquet\n",
      "-rw-r--r-- 1 root root     21459 Nov 29 05:27 schema.pbtxt\n",
      "drwxr-xr-x 2 root root      4096 Nov 29 05:26 temp-parquet-after-conversion\n",
      "-rw-r--r-- 1 root root 509766965 Nov 29 03:50 test.txt\n"
     ]
    }
   ],
   "source": [
    "!ls -l /wdl_train/val"
   ]
  },
  {
   "cell_type": "code",
   "execution_count": 1,
   "id": "3a06239c",
   "metadata": {},
   "outputs": [],
   "source": [
    "import pandas as pd\n",
    "df = pd.read_parquet(\"/wdl_train/val/part_0.parquet\")"
   ]
  },
  {
   "cell_type": "code",
   "execution_count": 2,
   "id": "27e23171",
   "metadata": {},
   "outputs": [
    {
     "data": {
      "text/html": [
       "<div>\n",
       "<style scoped>\n",
       "    .dataframe tbody tr th:only-of-type {\n",
       "        vertical-align: middle;\n",
       "    }\n",
       "\n",
       "    .dataframe tbody tr th {\n",
       "        vertical-align: top;\n",
       "    }\n",
       "\n",
       "    .dataframe thead th {\n",
       "        text-align: right;\n",
       "    }\n",
       "</style>\n",
       "<table border=\"1\" class=\"dataframe\">\n",
       "  <thead>\n",
       "    <tr style=\"text-align: right;\">\n",
       "      <th></th>\n",
       "      <th>I1</th>\n",
       "      <th>I2</th>\n",
       "      <th>I3</th>\n",
       "      <th>I4</th>\n",
       "      <th>I5</th>\n",
       "      <th>I6</th>\n",
       "      <th>I7</th>\n",
       "      <th>I8</th>\n",
       "      <th>I9</th>\n",
       "      <th>I10</th>\n",
       "      <th>...</th>\n",
       "      <th>C18</th>\n",
       "      <th>C19</th>\n",
       "      <th>C20</th>\n",
       "      <th>C21</th>\n",
       "      <th>C22</th>\n",
       "      <th>C23</th>\n",
       "      <th>C24</th>\n",
       "      <th>C25</th>\n",
       "      <th>C26</th>\n",
       "      <th>label</th>\n",
       "    </tr>\n",
       "  </thead>\n",
       "  <tbody>\n",
       "    <tr>\n",
       "      <th>0</th>\n",
       "      <td>-0.054112</td>\n",
       "      <td>0.796048</td>\n",
       "      <td>1.873822</td>\n",
       "      <td>-0.122997</td>\n",
       "      <td>-0.023286</td>\n",
       "      <td>1.580263</td>\n",
       "      <td>0.743047</td>\n",
       "      <td>-0.258333</td>\n",
       "      <td>1.119755</td>\n",
       "      <td>1.386036</td>\n",
       "      <td>...</td>\n",
       "      <td>0</td>\n",
       "      <td>1</td>\n",
       "      <td>4</td>\n",
       "      <td>2</td>\n",
       "      <td>2</td>\n",
       "      <td>2</td>\n",
       "      <td>0</td>\n",
       "      <td>51</td>\n",
       "      <td>2</td>\n",
       "      <td>5</td>\n",
       "    </tr>\n",
       "    <tr>\n",
       "      <th>1</th>\n",
       "      <td>-0.059432</td>\n",
       "      <td>-0.537957</td>\n",
       "      <td>-0.594327</td>\n",
       "      <td>-0.152827</td>\n",
       "      <td>-0.224758</td>\n",
       "      <td>0.893091</td>\n",
       "      <td>-0.064249</td>\n",
       "      <td>2.592743</td>\n",
       "      <td>-0.470833</td>\n",
       "      <td>1.386036</td>\n",
       "      <td>...</td>\n",
       "      <td>3</td>\n",
       "      <td>8</td>\n",
       "      <td>1</td>\n",
       "      <td>0</td>\n",
       "      <td>875</td>\n",
       "      <td>0</td>\n",
       "      <td>537</td>\n",
       "      <td>196</td>\n",
       "      <td>7</td>\n",
       "      <td>7</td>\n",
       "    </tr>\n",
       "    <tr>\n",
       "      <th>2</th>\n",
       "      <td>-0.055886</td>\n",
       "      <td>-0.160306</td>\n",
       "      <td>0.478781</td>\n",
       "      <td>-0.157301</td>\n",
       "      <td>-0.224758</td>\n",
       "      <td>-0.206385</td>\n",
       "      <td>-0.064249</td>\n",
       "      <td>-0.276593</td>\n",
       "      <td>0.179862</td>\n",
       "      <td>-0.470383</td>\n",
       "      <td>...</td>\n",
       "      <td>0</td>\n",
       "      <td>1</td>\n",
       "      <td>4</td>\n",
       "      <td>2</td>\n",
       "      <td>2</td>\n",
       "      <td>2</td>\n",
       "      <td>0</td>\n",
       "      <td>245</td>\n",
       "      <td>2</td>\n",
       "      <td>5</td>\n",
       "    </tr>\n",
       "    <tr>\n",
       "      <th>3</th>\n",
       "      <td>-0.054112</td>\n",
       "      <td>-0.548824</td>\n",
       "      <td>-0.057773</td>\n",
       "      <td>-0.148352</td>\n",
       "      <td>-0.224758</td>\n",
       "      <td>1.442828</td>\n",
       "      <td>-0.064249</td>\n",
       "      <td>-0.067914</td>\n",
       "      <td>1.915049</td>\n",
       "      <td>3.242455</td>\n",
       "      <td>...</td>\n",
       "      <td>1</td>\n",
       "      <td>2</td>\n",
       "      <td>2</td>\n",
       "      <td>1</td>\n",
       "      <td>1</td>\n",
       "      <td>1</td>\n",
       "      <td>1</td>\n",
       "      <td>577</td>\n",
       "      <td>1</td>\n",
       "      <td>2</td>\n",
       "    </tr>\n",
       "    <tr>\n",
       "      <th>4</th>\n",
       "      <td>-0.045245</td>\n",
       "      <td>-0.483618</td>\n",
       "      <td>-0.487016</td>\n",
       "      <td>-0.157301</td>\n",
       "      <td>-0.224758</td>\n",
       "      <td>-0.206385</td>\n",
       "      <td>-0.064249</td>\n",
       "      <td>-0.279201</td>\n",
       "      <td>-0.687732</td>\n",
       "      <td>-0.470383</td>\n",
       "      <td>...</td>\n",
       "      <td>2</td>\n",
       "      <td>1</td>\n",
       "      <td>8</td>\n",
       "      <td>0</td>\n",
       "      <td>5387</td>\n",
       "      <td>0</td>\n",
       "      <td>4678</td>\n",
       "      <td>798</td>\n",
       "      <td>1</td>\n",
       "      <td>3</td>\n",
       "    </tr>\n",
       "  </tbody>\n",
       "</table>\n",
       "<p>5 rows × 42 columns</p>\n",
       "</div>"
      ],
      "text/plain": [
       "         I1        I2        I3        I4        I5        I6        I7  \\\n",
       "0 -0.054112  0.796048  1.873822 -0.122997 -0.023286  1.580263  0.743047   \n",
       "1 -0.059432 -0.537957 -0.594327 -0.152827 -0.224758  0.893091 -0.064249   \n",
       "2 -0.055886 -0.160306  0.478781 -0.157301 -0.224758 -0.206385 -0.064249   \n",
       "3 -0.054112 -0.548824 -0.057773 -0.148352 -0.224758  1.442828 -0.064249   \n",
       "4 -0.045245 -0.483618 -0.487016 -0.157301 -0.224758 -0.206385 -0.064249   \n",
       "\n",
       "         I8        I9       I10  ...  C17  C18  C19  C20   C21  C22   C23  \\\n",
       "0 -0.258333  1.119755  1.386036  ...    0    1    4    2     2    2     0   \n",
       "1  2.592743 -0.470833  1.386036  ...    3    8    1    0   875    0   537   \n",
       "2 -0.276593  0.179862 -0.470383  ...    0    1    4    2     2    2     0   \n",
       "3 -0.067914  1.915049  3.242455  ...    1    2    2    1     1    1     1   \n",
       "4 -0.279201 -0.687732 -0.470383  ...    2    1    8    0  5387    0  4678   \n",
       "\n",
       "   C24  C25  C26  \n",
       "0   51    2    5  \n",
       "1  196    7    7  \n",
       "2  245    2    5  \n",
       "3  577    1    2  \n",
       "4  798    1    3  \n",
       "\n",
       "[5 rows x 42 columns]"
      ]
     },
     "execution_count": 2,
     "metadata": {},
     "output_type": "execute_result"
    }
   ],
   "source": [
    "df.head()"
   ]
  },
  {
   "cell_type": "code",
   "execution_count": 3,
   "id": "cec3bd82",
   "metadata": {},
   "outputs": [],
   "source": [
    "df.head(10).to_csv('/wdl_infer/infer_test.csv', sep=',', index=False,header=True)"
   ]
  },
  {
   "cell_type": "markdown",
   "id": "5ae7fc71",
   "metadata": {},
   "source": [
    "## 4.2 Follow the Triton requirements to generate inference requests"
   ]
  },
  {
   "cell_type": "code",
   "execution_count": 6,
   "id": "54de3154",
   "metadata": {},
   "outputs": [
    {
     "name": "stdout",
     "output_type": "stream",
     "text": [
      "Overwriting /wdl_infer/wdl2predict.py\n"
     ]
    }
   ],
   "source": [
    "%%writefile '/wdl_infer/wdl2predict.py'\n",
    "from tritonclient.utils import *\n",
    "import tritonclient.http  as httpclient\n",
    "import numpy as np\n",
    "import pandas as pd\n",
    "import sys\n",
    "\n",
    "model_name = 'wdl'\n",
    "CATEGORICAL_COLUMNS=[\"C1_C2\",\"C3_C4\"]+[\"C\" + str(x) for x in range(1, 27)]\n",
    "CONTINUOUS_COLUMNS=[\"I\" + str(x) for x in range(1, 14)]\n",
    "LABEL_COLUMNS = ['label']\n",
    "emb_size_array = [278018, 415262,249058, 19561, 14212, 6890, 18592, 4, 6356, 1254, 52, 226170, 80508, 72308, 11, 2169, 7597, 61, 4, 923, 15, 249619, 168974, 243480, 68212, 9169, 75, 34]\n",
    "shift = np.insert(np.cumsum(emb_size_array), 0, 0)[:-1]\n",
    "test_df=pd.read_csv(\"/wdl_infer/infer_test.csv\",sep=',')\n",
    "\n",
    "\n",
    "\n",
    "with httpclient.InferenceServerClient(\"localhost:8000\") as client:\n",
    "    dense_features = np.array([list(test_df[CONTINUOUS_COLUMNS].values.flatten())],dtype='float32')\n",
    "    embedding_columns = np.array([list((test_df[CATEGORICAL_COLUMNS]+shift).values.flatten())],dtype='int64')\n",
    "    row_ptrs = np.array([list(range(0,21))+list(range(0,261))],dtype='int32')\n",
    "    \n",
    "    inputs = [\n",
    "        httpclient.InferInput(\"DES\", dense_features.shape,\n",
    "                              np_to_triton_dtype(dense_features.dtype)),\n",
    "        httpclient.InferInput(\"CATCOLUMN\", embedding_columns.shape,\n",
    "                              np_to_triton_dtype(embedding_columns.dtype)),\n",
    "        httpclient.InferInput(\"ROWINDEX\", row_ptrs.shape,\n",
    "                              np_to_triton_dtype(row_ptrs.dtype)),\n",
    "\n",
    "    ]\n",
    "\n",
    "    inputs[0].set_data_from_numpy(dense_features)\n",
    "    inputs[1].set_data_from_numpy(embedding_columns)\n",
    "    inputs[2].set_data_from_numpy(row_ptrs)\n",
    "    outputs = [\n",
    "        httpclient.InferRequestedOutput(\"OUTPUT0\")\n",
    "    ]\n",
    "\n",
    "    response = client.infer(model_name,\n",
    "                            inputs,\n",
    "                            request_id=str(1),\n",
    "                            outputs=outputs)\n",
    "\n",
    "    result = response.get_response()\n",
    "    print(result)\n",
    "    print(\"Prediction Result:\")\n",
    "    print(response.as_numpy(\"OUTPUT0\"))\n",
    "\n"
   ]
  },
  {
   "cell_type": "markdown",
   "id": "3474067b",
   "metadata": {},
   "source": [
    "## 4.3 Send requests to Triton Server"
   ]
  },
  {
   "cell_type": "code",
   "execution_count": 2,
   "id": "5c575b9e",
   "metadata": {},
   "outputs": [
    {
     "name": "stdout",
     "output_type": "stream",
     "text": [
      "{'id': '1', 'model_name': 'wdl', 'model_version': '1', 'parameters': {'NumSample': 10, 'DeviceID': 0}, 'outputs': [{'name': 'OUTPUT0', 'datatype': 'FP32', 'shape': [10], 'parameters': {'binary_data_size': 40}}]}\n",
      "Prediction Result:\n",
      "[0.03392845 0.02259001 0.00255735 0.00028795 0.00226125 0.02724345\n",
      " 0.00389859 0.00180469 0.03567842 0.00802261]\n"
     ]
    }
   ],
   "source": [
    "!python3 /wdl_infer/wdl2predict.py"
   ]
  }
 ],
 "metadata": {
  "kernelspec": {
   "display_name": "Python 3 (ipykernel)",
   "language": "python",
   "name": "python3"
  },
  "language_info": {
   "codemirror_mode": {
    "name": "ipython",
    "version": 3
   },
   "file_extension": ".py",
   "mimetype": "text/x-python",
   "name": "python",
   "nbconvert_exporter": "python",
   "pygments_lexer": "ipython3",
   "version": "3.8.10"
  }
 },
 "nbformat": 4,
 "nbformat_minor": 5
}
